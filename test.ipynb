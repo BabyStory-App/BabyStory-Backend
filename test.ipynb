{
 "cells": [
  {
   "cell_type": "code",
   "execution_count": 2,
   "metadata": {},
   "outputs": [
    {
     "data": {
      "text/plain": [
       "'2023-11-13 11:49:28'"
      ]
     },
     "execution_count": 2,
     "metadata": {},
     "output_type": "execute_result"
    }
   ],
   "source": [
    "from datetime import datetime\n",
    "\n",
    "datetime.now().strftime(\"%Y-%m-%d %H:%M:%S\")"
   ]
  },
  {
   "cell_type": "markdown",
   "metadata": {},
   "source": [
    "- UpdateCryDuration: 울음이 감지되어 예측이 종료되었음에도 또 다시 울음이 감지되면(1분 이내) 이전 예측 시간을 갱신한다.\n"
   ]
  },
  {
   "cell_type": "markdown",
   "metadata": {},
   "source": [
    "### 울음소리 분석\n",
    "\n",
    "0. 오늘 울음 횟수 분석(일간)\n",
    "\n",
    "   - 오늘 발생한 울음을 분석한다.\n",
    "\n",
    "   - 각각 설명을 보여준다.\n",
    "\n",
    "   - 새로운 페이지로 넘어가서 보여준다.(2주일 이전의 내용을 보고 싶다면 프리미엄을 구매해야 함.)\n",
    "\n",
    "1. 아기가 주로 우는 시간대 분석(월간)\n",
    "\n",
    "   - 울음 분도를 통해 하루 중 가장 울음이 많이 발생하는 시간대를 분석한다.\n",
    "\n",
    "   - x축에 시간, y축은 울음 빈도로 하는 히스토그램을 그린다.\n",
    "\n",
    "2. 일별 울음 빈도 분석(월간)\n",
    "\n",
    "   - 일별 울음 빈도를 분석한다.\n",
    "\n",
    "   - x축에 날짜, y축은 울음 빈도로 하는 선 그래프를 그린다.\n",
    "\n",
    "3. 아기 울음 원인 분석(월간)\n",
    "\n",
    "   - 아기의 울음 원인 빈도를 분석한다.\n",
    "\n",
    "   - 7가지의 울음 원인 횟수와 비율을 보여주는 파이 차트를 그린다.\n",
    "\n",
    "4. 아기 울음 원인에 따른 울음 지속 시간 분석\n",
    "\n",
    "   - 아기의 울음 원인에 따른 울음 지속 시간을 분석한다.\n",
    "\n",
    "   - 울음 예측 확률 표시하는 바와 같이 각각의 울음 원인에 따른 울음 지속 시간을 표시하는 가로 막대 그래프.\n"
   ]
  },
  {
   "cell_type": "code",
   "execution_count": 152,
   "metadata": {},
   "outputs": [
    {
     "name": "stdout",
     "output_type": "stream",
     "text": [
      "[0.838580450501035, 0.10570977474948248, 0.05570977474948247]\n",
      "1.001\n"
     ]
    },
    {
     "data": {
      "text/plain": [
       "{'diaper': 0.0,\n",
       " 'sad': 0.0,\n",
       " 'hug': 0.0,\n",
       " 'hungry': 0.0,\n",
       " 'sleepy': 0.839,\n",
       " 'awake': 0.106,\n",
       " 'uncomfortable': 0.056}"
      ]
     },
     "execution_count": 152,
     "metadata": {},
     "output_type": "execute_result"
    }
   ],
   "source": [
    "import random\n",
    "\n",
    "# Rewriting the generate_predict_map function as per the new requirements\n",
    "\n",
    "\n",
    "def generate_predict_map():\n",
    "    types = ['sad', 'hug', 'diaper', 'hungry',\n",
    "             'sleepy', 'awake', 'uncomfortable']\n",
    "\n",
    "    # Randomly select 4 types to have a probability of 0\n",
    "    zero_probability_types = random.sample(types, 4)\n",
    "\n",
    "    # Remaining types will have probabilities of 0.8, 0.1, and 0.1\n",
    "    remaining_types = [t for t in types if t not in zero_probability_types]\n",
    "    probabilities = [0.85, 0.1, 0.05]\n",
    "    uniform = random.uniform(-0.07, 0.07)\n",
    "    half_uniform = uniform / 2\n",
    "    probabilities[0] -= uniform\n",
    "    probabilities[1] += half_uniform\n",
    "    probabilities[2] += half_uniform\n",
    "    print(probabilities)\n",
    "    # Shuffle to assign these probabilities randomly\n",
    "    random.shuffle(probabilities)\n",
    "\n",
    "    # Combine into a single dictionary\n",
    "    predict_map = {t: 0.0 for t in zero_probability_types}\n",
    "    for t, p in zip(remaining_types, probabilities):\n",
    "        predict_map[t] = round(p, 3)\n",
    "\n",
    "    return predict_map\n",
    "\n",
    "\n",
    "# Testing the function\n",
    "generate_predict_map_sample = generate_predict_map()\n",
    "generate_predict_map_sample"
   ]
  },
  {
   "cell_type": "code",
   "execution_count": 154,
   "metadata": {},
   "outputs": [
    {
     "data": {
      "text/plain": [
       "'cry_state_sample_data.txt'"
      ]
     },
     "execution_count": 154,
     "metadata": {},
     "output_type": "execute_result"
    }
   ],
   "source": [
    "import json\n",
    "import random\n",
    "from datetime import datetime, timedelta\n",
    "\n",
    "\n",
    "def save_cry_state_sample_data_to_file(start_date, end_date, baby_id, file_path):\n",
    "    # Constants\n",
    "    types = ['sad', 'hug', 'diaper', 'hungry',\n",
    "             'sleepy', 'awake', 'uncomfortable']\n",
    "    intensities = ['low', 'medium', 'high']\n",
    "    audio_id_counter = 1\n",
    "\n",
    "    def generate_predict_map():\n",
    "        # Randomly select 4 types to have a probability of 0\n",
    "        zero_probability_types = random.sample(types, 4)\n",
    "\n",
    "        # Remaining types will have probabilities of 0.8, 0.1, and 0.1\n",
    "        remaining_types = [t for t in types if t not in zero_probability_types]\n",
    "        probabilities = [0.85, 0.1, 0.05]\n",
    "        uniform = random.uniform(-0.07, 0.07)\n",
    "        half_uniform = uniform / 2\n",
    "        probabilities[0] -= uniform\n",
    "        probabilities[1] += half_uniform\n",
    "        probabilities[2] += half_uniform\n",
    "        # Shuffle to assign these probabilities randomly\n",
    "        random.shuffle(probabilities)\n",
    "\n",
    "        # Combine into a single dictionary\n",
    "        predict_map = {t: 0.0 for t in zero_probability_types}\n",
    "        for t, p in zip(remaining_types, probabilities):\n",
    "            predict_map[t] = round(p, 3)\n",
    "\n",
    "        return predict_map\n",
    "\n",
    "    # Writing data to the file\n",
    "    with open(file_path, 'w') as file:\n",
    "        current_date = start_date\n",
    "        while current_date <= end_date:\n",
    "            # Random number of records for the day\n",
    "            num_records = random.randint(1, 4)\n",
    "            for _ in range(num_records):\n",
    "                # Generate random time for the current date\n",
    "                random_time = current_date + timedelta(hours=random.randint(\n",
    "                    0, 23), minutes=random.randint(0, 59), seconds=random.randint(0, 59))\n",
    "                # Randomly select intensity and duration\n",
    "                intensity = random.choice(intensities)\n",
    "                duration = round(random.uniform(2.0, 17.0), 2)\n",
    "                # Generate predictMap and select type with the largest probability\n",
    "                predict_map = generate_predict_map()\n",
    "                selected_type = max(predict_map, key=predict_map.get)\n",
    "                # Create the SQL INSERT statement\n",
    "                insert_statement = f\"INSERT INTO cry_state (babyId, time, type, audioId, predictMap, intensity, duration) VALUES ('{baby_id}', '{random_time.strftime('%Y-%m-%d %H:%M:%S')}', '{selected_type}', 'audioId{audio_id_counter}', '{json.dumps(predict_map)}', '{intensity}', {duration});\\n\"\n",
    "                file.write(insert_statement)\n",
    "                audio_id_counter += 1\n",
    "            current_date += timedelta(days=1)\n",
    "\n",
    "    return file_path\n",
    "\n",
    "\n",
    "# Example usage\n",
    "file_path = 'cry_state_sample_data.txt'\n",
    "start_date = datetime(2023, 9, 12)\n",
    "end_date = datetime(2023, 11, 27)\n",
    "baby_id = \"355cf5e3-71a3-4807-885a-441620a5efc8\"\n",
    "save_cry_state_sample_data_to_file(start_date, end_date, baby_id, file_path)"
   ]
  }
 ],
 "metadata": {
  "kernelspec": {
   "display_name": "Python 3",
   "language": "python",
   "name": "python3"
  },
  "language_info": {
   "codemirror_mode": {
    "name": "ipython",
    "version": 3
   },
   "file_extension": ".py",
   "mimetype": "text/x-python",
   "name": "python",
   "nbconvert_exporter": "python",
   "pygments_lexer": "ipython3",
   "version": "3.9.0"
  }
 },
 "nbformat": 4,
 "nbformat_minor": 2
}
